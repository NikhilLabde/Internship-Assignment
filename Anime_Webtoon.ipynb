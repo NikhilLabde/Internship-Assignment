{
 "cells": [
  {
   "cell_type": "code",
   "execution_count": 1,
   "metadata": {},
   "outputs": [
    {
     "name": "stdout",
     "output_type": "stream",
     "text": [
      "Accuracy: 0.2\n"
     ]
    }
   ],
   "source": [
    "from sklearn.feature_extraction.text import TfidfVectorizer\n",
    "from sklearn.model_selection import train_test_split\n",
    "from sklearn.tree import DecisionTreeClassifier\n",
    "from sklearn.metrics import accuracy_score\n",
    "\n",
    "# Sample dataset\n",
    "data = [\n",
    "    {\"description\": \"A beautiful love story between two high schoolers.\", \"category\": \"romance\"},\n",
    "    {\"description\": \"A fantasy world where dragons roam.\", \"category\": \"fantasy\"},\n",
    "    {\"description\": \"A young warrior embarks on a quest to save his kingdom from an ancient evil.\", \"category\":\"action\"},\n",
    "    {\"description\": \"Two clumsy detectives bumble their way through solving hilarious cases.\", \"category\": \"comedy\"},\n",
    "    {\"description\": \"After moving into a creepy old mansion, a family starts experiencing paranormal events.\", \"category\": \"horror\"},\n",
    "    {\"description\": \"A detective must unravel the secrets of a small town where everyone has something to hide.\", \"category\": \"thriller\"},\n",
    "\n",
    "    {\"description\": \"In a world where love is forbidden, two hearts find each other amidst chaos.\", \"category\":\"romance\"},\n",
    "    {\"description\": \"In a land of dragons and magic, a young boy discovers his hidden powers.\", \"category\": \"fantasy\"},\n",
    "    {\"description\": \"Trained from birth, a skilled assassin seeks revenge on those who betrayed her.\", \"category\":\"action\"},\n",
    "    {\"description\": \"A young woman navigates the chaos of her daily life, where everything goes wrong in the funniest ways.\", \"category\": \"comedy\"},\n",
    "    {\"description\": \"An abandoned asylum hides the dark truth about twisted experiments conducted in the past.\", \"category\": \"horror\"},\n",
    "    {\"description\": \"A series of unsolved disappearances leads one journalist down a dangerous path to uncover the truth.\", \"category\": \"thriller\"},\n",
    "\n",
    "    {\"description\": \"A high school girl falls for the mysterious new transfer student with a secret past.\", \"category\":\"romance\"},\n",
    "    {\"description\": \"A group of adventurers sets out to find the legendary treasure hidden in the lost city.\", \"category\": \"fantasy\"},\n",
    "    {\"description\": \"A secret agent must stop a terrorist plot before time runs out.\", \"category\":\"action\"},\n",
    "    {\"description\": \"A talking dog and his owner get into ridiculous situations trying to win the lottery.\", \"category\": \"comedy\"},\n",
    "    {\"description\": \"When a lazy college student inherits a haunted house, he must deal with troublesome ghosts who are more annoying than scary.\", \"category\": \"horror\"},\n",
    "    {\"description\": \"A young hacker stumbles upon a government conspiracy that could change the world.\", \"category\": \"thriller\"},\n",
    "\n",
    "    {\"description\": \"A chance meeting in the rain brings together two souls destined to be together.\", \"category\":\"romance\"},\n",
    "    {\"description\": \"A cursed prince must team up with a witch to break the spell and reclaim his throne.\", \"category\": \"fantasy\"},\n",
    "    {\"description\": \"Fighting in underground arenas, one man rises to become the undefeated champion.\", \"category\":\"action\"},\n",
    "    {\"description\": \"A haunted forest where anyone who enters never returns... until one brave soul dares to explore its secrets.\", \"category\": \"comedy\"},\n",
    "    {\"description\": \"A group of friends accidentally summon a vengeful spirit while playing with a cursed Ouija board.\", \"category\": \"horror\"},\n",
    "    {\"description\": \"When a famous author goes missing, his wife sets out to solve the mystery using clues from his final novel.\", \"category\": \"thriller\"}\n",
    "    # Add more descriptions\n",
    "]\n",
    "\n",
    "# Preprocess the dataset\n",
    "descriptions = [item['description'] for item in data]\n",
    "categories = [item['category'] for item in data]\n",
    "\n",
    "# Convert text to numeric features using TF-IDF\n",
    "vectorizer = TfidfVectorizer()\n",
    "X = vectorizer.fit_transform(descriptions)\n",
    "y = categories\n",
    "\n",
    "# Split the data\n",
    "X_train, X_test, y_train, y_test = train_test_split(X, y, test_size=0.2)\n",
    "\n",
    "# Train the model\n",
    "clf = DecisionTreeClassifier()\n",
    "clf.fit(X_train, y_train)\n",
    "\n",
    "# Test the model\n",
    "y_pred = clf.predict(X_test)\n",
    "print(f\"Accuracy: {accuracy_score(y_test, y_pred)}\")\n"
   ]
  },
  {
   "cell_type": "code",
   "execution_count": 2,
   "metadata": {},
   "outputs": [
    {
     "name": "stdout",
     "output_type": "stream",
     "text": [
      "Positive: 50.0%\n",
      "Negative: 50.0%\n"
     ]
    }
   ],
   "source": [
    "from textblob import TextBlob\n",
    "\n",
    "# Sample comments\n",
    "comments = [\n",
    "    \"I love manhwa so much, it's so exciting!\",\n",
    "    \"Manga is better than manhwa, too boring.\",\n",
    "    # Add more comments\n",
    "]\n",
    "\n",
    "# Perform sentiment analysis\n",
    "positive = 0\n",
    "negative = 0\n",
    "for comment in comments:\n",
    "    analysis = TextBlob(comment)\n",
    "    if analysis.sentiment.polarity > 0:\n",
    "        positive += 1\n",
    "    else:\n",
    "        negative += 1\n",
    "\n",
    "# Print results\n",
    "total = len(comments)\n",
    "print(f\"Positive: {positive / total * 100}%\")\n",
    "print(f\"Negative: {negative / total * 100}%\")\n"
   ]
  },
  {
   "cell_type": "code",
   "execution_count": 3,
   "metadata": {},
   "outputs": [
    {
     "name": "stdout",
     "output_type": "stream",
     "text": [
      "Castle Swimmer is about a young boy who is prophesied to be the savior.\n"
     ]
    }
   ],
   "source": [
    "import nltk\n",
    "from nltk.tokenize import word_tokenize\n",
    "\n",
    "# Sample knowledge base\n",
    "knowledge = {\n",
    "    \"what is castle swimmer about\": \"Castle Swimmer is about a young boy who is prophesied to be the savior.\",\n",
    "    \"who are the main characters\": \"The main characters are Kappa and Siren.\"\n",
    "}\n",
    "\n",
    "# Function to answer questions\n",
    "def chatbot_response(user_input):\n",
    "    tokens = word_tokenize(user_input.lower())\n",
    "    for question in knowledge:\n",
    "        if any(word in question for word in tokens):\n",
    "            return knowledge[question]\n",
    "    return \"Sorry, I don't understand the question.\"\n",
    "\n",
    "# Example usage\n",
    "user_input = \"What is Castle Swimmer about?\"\n",
    "response = chatbot_response(user_input)\n",
    "print(response)\n"
   ]
  },
  {
   "cell_type": "code",
   "execution_count": null,
   "metadata": {},
   "outputs": [],
   "source": []
  },
  {
   "cell_type": "code",
   "execution_count": null,
   "metadata": {},
   "outputs": [],
   "source": []
  }
 ],
 "metadata": {
  "kernelspec": {
   "display_name": "base",
   "language": "python",
   "name": "python3"
  },
  "language_info": {
   "codemirror_mode": {
    "name": "ipython",
    "version": 3
   },
   "file_extension": ".py",
   "mimetype": "text/x-python",
   "name": "python",
   "nbconvert_exporter": "python",
   "pygments_lexer": "ipython3",
   "version": "3.11.5"
  }
 },
 "nbformat": 4,
 "nbformat_minor": 2
}
